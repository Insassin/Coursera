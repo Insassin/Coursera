{
 "cells": [
  {
   "cell_type": "markdown",
   "metadata": {},
   "source": [
    "## Тест: Доверительные интервалы\n",
    "### Вопрос 1.\n",
    "Давайте уточним правило трёх сигм. Утверждение: $99.7\\%$ вероятностной массы случайной величины $X\\sim N(\\mu,\\sigma^2)$ лежит в интервале $\\mu\\pm c\\cdot\\sigma$. Чему равно точное значение константы $c$? Округлите ответ до четырёх знаков после десятичной точки."
   ]
  },
  {
   "cell_type": "code",
   "execution_count": 1,
   "metadata": {
    "collapsed": false
   },
   "outputs": [
    {
     "data": {
      "text/plain": [
       "2.9677"
      ]
     },
     "execution_count": 1,
     "metadata": {},
     "output_type": "execute_result"
    }
   ],
   "source": [
    "2.9677"
   ]
  },
  {
   "cell_type": "markdown",
   "metadata": {},
   "source": [
    "### Вопрос 2.\n",
    "Пусть $X\\sim N(\\mu,\\sigma^2)$. Какое распределение имеет величина $\\frac{\\bar X_n−\\mu}{\\frac{S_n} {\\sqrt{n}}}$?\n",
    "- $St(n-1)$\n",
    "\n",
    "### Вопрос 3.\n",
    "Выберите все распределения с несимметричной функцией плотности\n",
    "- $\\chi^2$\n",
    "- Фишера\n",
    "\n",
    "### Вопрос 4.\n",
    "Какое из выражений задаёт доверительный интервал для разности долей в связанных выборках?\n",
    "- $\\frac {f-g}{n}\\pm z_{1-\\frac{\\alpha}{2}} \\sqrt{\\frac{f+g}{n^2} - \\frac{(f-g)^2}{n^3}}$\n",
    "\n",
    "### Вопрос 5.\n",
    "В пятилетнем рандомизированном исследовании Гарвардской медицинской школы 11037 испытуемых через день принимали аспирин, а ещё 11034 — плацебо. Исследование было слепым, то есть, испытуемые не знали, что именно они принимают.\n",
    "\n",
    "За 5 лет инфаркт случился у 104 испытуемых, принимавших аспирин, и у 189 принимавших плацебо.\n",
    "\n",
    "Оцените, насколько вероятность инфаркта снижается при приёме аспирина. Округлите ответ до четырёх знаков после десятичной точки."
   ]
  },
  {
   "cell_type": "code",
   "execution_count": 2,
   "metadata": {
    "collapsed": false
   },
   "outputs": [
    {
     "data": {
      "text/plain": [
       "0.0077"
      ]
     },
     "execution_count": 2,
     "metadata": {},
     "output_type": "execute_result"
    }
   ],
   "source": [
    "0.0077"
   ]
  },
  {
   "cell_type": "markdown",
   "metadata": {},
   "source": [
    "### Вопрос 6.\n",
    "Постройте теперь 95% доверительный интервал для снижения вероятности инфаркта при приёме аспирина. Чему равна его верхняя граница? Округлите ответ до четырёх знаков после десятичной точки."
   ]
  },
  {
   "cell_type": "code",
   "execution_count": 3,
   "metadata": {
    "collapsed": false
   },
   "outputs": [
    {
     "name": "stdout",
     "output_type": "stream",
     "text": [
      "(0.0046878682721335392, 0.010724179679876024)\n"
     ]
    }
   ],
   "source": [
    "from scipy.stats import norm\n",
    "import numpy as np\n",
    "alpha = 0.05    \n",
    "z = norm.ppf(1 - alpha / 2.)   \n",
    "p2 = 104. / 11037\n",
    "p1 = 189. / 11034\n",
    "    \n",
    "left_boundary  = (p1 - p2) - z * np.sqrt(p1 * (1 - p1)/ 11037 + p2 * (1 - p2)/ 11034)\n",
    "right_boundary = (p1 - p2) + z * np.sqrt(p1 * (1 - p1)/ 11037 + p2 * (1 - p2)/ 11034)\n",
    "    \n",
    "print (left_boundary, right_boundary)"
   ]
  },
  {
   "cell_type": "markdown",
   "metadata": {},
   "source": [
    "### Вопрос 7.\n",
    "Продолжим анализировать данные эксперимента Гарвардской медицинской школы.\n",
    "\n",
    "Для бернуллиевских случайных величин $X\\sim Ber(p)$ часто вычисляют величину $\\frac{p}{1−p}$, которая называется шансами (`odds`). Чтобы оценить шансы по выборке, вместо $p$ нужно подставить $\\hat p$. Например, шансы инфаркта в контрольной группе, принимавшей плацебо, можно оценить как\n",
    "\n",
    "$$\\frac{\\frac{189}{11034}}{1−\\frac{189}{11034}}=\\frac{189}{11034−189}\\approx 0.0174$$\n",
    "Оцените, во сколько раз понижаются шансы инфаркта при регулярном приёме аспирина. Округлите ответ до четырёх знаков после десятичной точки."
   ]
  },
  {
   "cell_type": "code",
   "execution_count": 4,
   "metadata": {
    "collapsed": true
   },
   "outputs": [],
   "source": [
    "def chance(data):\n",
    "    len2 = len(data)\n",
    "    len1 = len(data[data[:] == 1.])\n",
    "    \n",
    "    return float(len1)/len2 / (1.-float(len1)/len2)"
   ]
  },
  {
   "cell_type": "code",
   "execution_count": 5,
   "metadata": {
    "collapsed": false
   },
   "outputs": [
    {
     "data": {
      "text/plain": [
       "1.8320539419087138"
      ]
     },
     "execution_count": 5,
     "metadata": {},
     "output_type": "execute_result"
    }
   ],
   "source": [
    "mas1 = np.hstack((np.ones(104), np.zeros(10933)))\n",
    "mas2 = np.hstack((np.ones(189), np.zeros(10845)))\n",
    "chance(mas2) / chance(mas1)"
   ]
  },
  {
   "cell_type": "markdown",
   "metadata": {},
   "source": [
    "### Вопрос 8.\n",
    "Величина, которую вы оценили в предыдущем вопросе, называется отношением шансов. Постройте для отношения шансов 95% доверительный интервал с помощью бутстрепа. Чему равна его нижняя граница? Округлите ответ до 4 знаков после десятичной точки.\n",
    "\n",
    "Чтобы получить в точности такой же доверительный интервал, как у нас:\n",
    "\n",
    "- составьте векторы исходов в контрольной и тестовой выборках так, чтобы в начале шли все единицы, а потом все нули;\n",
    "- установите random `seed=0`;\n",
    "- сделайте по 1000 псевдовыборок из каждой группы пациентов с помощью функции `get_bootstrap_samples`."
   ]
  },
  {
   "cell_type": "code",
   "execution_count": 6,
   "metadata": {
    "collapsed": true
   },
   "outputs": [],
   "source": [
    "def get_bootstrap_samples(data, n_samples):\n",
    "    indices = np.random.randint(0, len(data), (n_samples, len(data)))\n",
    "    samples = data[indices]\n",
    "    return samples\n",
    "\n",
    "def stat_intervals(stat, alpha):\n",
    "    boundaries = np.percentile(stat, [100 * alpha / 2., 100 * (1 - alpha / 2.)])\n",
    "    return boundaries"
   ]
  },
  {
   "cell_type": "code",
   "execution_count": 10,
   "metadata": {
    "collapsed": false
   },
   "outputs": [
    {
     "name": "stdout",
     "output_type": "stream",
     "text": [
      "95% confidence interval for the difference between medians [ 1.44419465  2.34321168]\n"
     ]
    }
   ],
   "source": [
    "np.random.seed(0)\n",
    "ilec_median_scores = map(chance, get_bootstrap_samples(mas1, 1000))\n",
    "clec_median_scores = map(chance, get_bootstrap_samples(mas2, 1000))\n",
    "\n",
    "delta_median_scores = map(lambda x: x[1] / x[0], zip(ilec_median_scores, clec_median_scores))\n",
    "print \"95% confidence interval for the difference between medians\",  stat_intervals(delta_median_scores, 0.05)"
   ]
  }
 ],
 "metadata": {
  "kernelspec": {
   "display_name": "Python 2",
   "language": "python",
   "name": "python2"
  },
  "language_info": {
   "codemirror_mode": {
    "name": "ipython",
    "version": 2
   },
   "file_extension": ".py",
   "mimetype": "text/x-python",
   "name": "python",
   "nbconvert_exporter": "python",
   "pygments_lexer": "ipython2",
   "version": "2.7.13"
  }
 },
 "nbformat": 4,
 "nbformat_minor": 2
}
