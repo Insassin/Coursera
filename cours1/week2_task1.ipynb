{
 "cells": [
  {
   "cell_type": "markdown",
   "metadata": {
    "collapsed": true
   },
   "source": [
    "## Линейная алгебра: сходство текстов и аппроксимация функций"
   ]
  },
  {
   "cell_type": "markdown",
   "metadata": {},
   "source": [
    "Задача 1: сравнение предложений"
   ]
  },
  {
   "cell_type": "code",
   "execution_count": 25,
   "metadata": {
    "collapsed": true
   },
   "outputs": [],
   "source": [
    "import re"
   ]
  },
  {
   "cell_type": "code",
   "execution_count": 26,
   "metadata": {
    "collapsed": true
   },
   "outputs": [],
   "source": [
    "sentences = open('sentences.txt', 'r')"
   ]
  },
  {
   "cell_type": "code",
   "execution_count": 27,
   "metadata": {
    "collapsed": false
   },
   "outputs": [],
   "source": [
    "sent_list = list(sentences)\n",
    "i = 0\n",
    "result = []\n",
    "for line in sent_list:\n",
    "    line = line.lower()\n",
    "    result.append(filter(lambda x: x != '', re.split('[^a-z]', line)))"
   ]
  },
  {
   "cell_type": "code",
   "execution_count": 28,
   "metadata": {
    "collapsed": false
   },
   "outputs": [],
   "source": [
    "words = []\n",
    "for i in range(0, len(result)):\n",
    "    for j in range(0, len(result[i])):\n",
    "        words.append(result[i][j])\n",
    "words1 = list(list(set(words)))"
   ]
  },
  {
   "cell_type": "code",
   "execution_count": 29,
   "metadata": {
    "collapsed": false
   },
   "outputs": [],
   "source": [
    "dct = dict(zip(range(len(words1)), words1))"
   ]
  },
  {
   "cell_type": "code",
   "execution_count": 30,
   "metadata": {
    "collapsed": false
   },
   "outputs": [],
   "source": [
    "matrix = [[0] * len(words1) for i in range(len(result))]\n",
    "for i in range(0, len(result)):\n",
    "    for j in range(0, len(words1)):\n",
    "        matrix[i][j] = result[i].count(words1[j])\n",
    "        #каждому слову words1[j] сопоставляем количество вхождений в предложение result[i]"
   ]
  },
  {
   "cell_type": "code",
   "execution_count": 31,
   "metadata": {
    "collapsed": false
   },
   "outputs": [
    {
     "name": "stdout",
     "output_type": "stream",
     "text": [
      "[0.95275444087384664, 0.86447381456421235, 0.89517151632780823, 0.77708871496985887, 0.94023856953328033, 0.7327387580875756, 0.92587506833388988, 0.88427248752843102, 0.90550888174769317, 0.83281653622739416, 0.88047713906656067, 0.83964325485254543, 0.87035925528956715, 0.87401184233025764, 0.94427217874246472, 0.84063618542208085, 0.95664450152379399, 0.94427217874246472, 0.88854435748492944, 0.84275727449171223, 0.82503644694405864]\n"
     ]
    }
   ],
   "source": [
    "from scipy import spatial\n",
    "cos_dist = list()\n",
    "for i in range(1, len(result)):\n",
    "    cos_dist.append(spatial.distance.cosine(matrix[0], matrix[i]))\n",
    "print cos_dist"
   ]
  },
  {
   "cell_type": "code",
   "execution_count": 32,
   "metadata": {
    "collapsed": false
   },
   "outputs": [
    {
     "name": "stdout",
     "output_type": "stream",
     "text": [
      "0.732738758088 0.77708871497 6 4\n"
     ]
    }
   ],
   "source": [
    "min1, min2 = 100., 100.\n",
    "min11, min22 = 0., 0.\n",
    "for i in range(0, len(result)-1):\n",
    "    if cos_dist[i] < min1:\n",
    "        min1, min2 = cos_dist[i], min1\n",
    "        min11, min22 = i + 1, min11\n",
    "    elif cos_dist[i] < min2:\n",
    "        min2 = cos_dist[i]\n",
    "        min22 = i + 1\n",
    "print min1, min2, min11, min22"
   ]
  },
  {
   "cell_type": "code",
   "execution_count": 33,
   "metadata": {
    "collapsed": false
   },
   "outputs": [],
   "source": [
    "with open('submission-1.txt', 'w') as file_res:\n",
    "    file_res.write(str(min11) + ' ' + str(min22))\n",
    "sentences.close()"
   ]
  },
  {
   "cell_type": "markdown",
   "metadata": {},
   "source": [
    "Ближайшие два предложения совпадают по тематике с первым. Следующее по близости предложение уже на другую тему."
   ]
  }
 ],
 "metadata": {
  "kernelspec": {
   "display_name": "Python 2",
   "language": "python",
   "name": "python2"
  },
  "language_info": {
   "codemirror_mode": {
    "name": "ipython",
    "version": 2
   },
   "file_extension": ".py",
   "mimetype": "text/x-python",
   "name": "python",
   "nbconvert_exporter": "python",
   "pygments_lexer": "ipython2",
   "version": "2.7.13"
  }
 },
 "nbformat": 4,
 "nbformat_minor": 2
}
