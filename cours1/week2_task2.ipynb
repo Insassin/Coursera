{
 "cells": [
  {
   "cell_type": "markdown",
   "metadata": {},
   "source": [
    "## Линейная алгебра: сходство текстов и аппроксимация функций"
   ]
  },
  {
   "cell_type": "markdown",
   "metadata": {},
   "source": [
    "Задача 2: аппроксимация функции"
   ]
  },
  {
   "cell_type": "code",
   "execution_count": null,
   "metadata": {
    "collapsed": true
   },
   "outputs": [],
   "source": [
    "import math\n",
    "from scipy import linalg\n",
    "import numpy as np\n",
    "from matplotlib import pylab as plt"
   ]
  },
  {
   "cell_type": "code",
   "execution_count": null,
   "metadata": {
    "collapsed": false
   },
   "outputs": [],
   "source": [
    "def f(x):\n",
    "    return (math.sin(x/5.) * math.exp(x/10.) + 5 * math.exp(-x/2.))"
   ]
  },
  {
   "cell_type": "code",
   "execution_count": null,
   "metadata": {
    "collapsed": false
   },
   "outputs": [],
   "source": [
    "A = np.array([[1., 1.], [1., 15.]]) # x^0 + x^1\n",
    "b = [f(1.), f(15.)]\n",
    "w = linalg.solve(A, b)\n",
    "\n",
    "def func(x, w):\n",
    "    res = np.zeros(len(x))\n",
    "    for i in np.arange(len(x)):\n",
    "        for j in np.arange(len(w)):\n",
    "            res[i] += w[j] * x[i]**j\n",
    "    return res\n",
    "\n",
    "x = np.arange(1,15.5,0.5)\n",
    "y = [f(x_) for x_ in x]\n",
    "\n",
    "plt.plot(x, y)\n",
    "plt.plot(x, func(x, w))\n",
    "plt.show()"
   ]
  },
  {
   "cell_type": "code",
   "execution_count": null,
   "metadata": {
    "collapsed": false
   },
   "outputs": [],
   "source": [
    "A = np.array([[1., 1., 1.], [1., 8., 64.], [1., 15., 225.]]) # x^0 + x^1 + x^2\n",
    "b = [f(1.), f(8.), f(15.)]\n",
    "w = linalg.solve(A, b)\n",
    "\n",
    "plt.plot(x, y)\n",
    "plt.plot(x, func(x, w))\n",
    "plt.show()"
   ]
  },
  {
   "cell_type": "code",
   "execution_count": null,
   "metadata": {
    "collapsed": false
   },
   "outputs": [],
   "source": [
    "A = np.array([[1., 1., 1., 1.], [1., 4., 16., 64.], [1., 10., 100., 1000.], [1., 15., 225., 3375.]]) # x^0 + x^1 + x^2 + x^3\n",
    "b = [f(1.), f(4.), f(10.), f(15.)]\n",
    "w = linalg.solve(A, b)\n",
    "\n",
    "plt.plot(x, y)\n",
    "plt.plot(x, func(x, w))\n",
    "plt.show()"
   ]
  },
  {
   "cell_type": "code",
   "execution_count": null,
   "metadata": {
    "collapsed": false
   },
   "outputs": [],
   "source": [
    "with open('submission-2.txt', 'w') as file_res:\n",
    "    file_res.write(str(w[0]) + ' ' + str(w[1]) + ' ' + str(w[2]) + ' ' + str(w[3]))"
   ]
  }
 ],
 "metadata": {
  "kernelspec": {
   "display_name": "Python 2",
   "language": "python",
   "name": "python2"
  },
  "language_info": {
   "codemirror_mode": {
    "name": "ipython",
    "version": 2
   },
   "file_extension": ".py",
   "mimetype": "text/x-python",
   "name": "python",
   "nbconvert_exporter": "python",
   "pygments_lexer": "ipython2",
   "version": "2.7.13"
  }
 },
 "nbformat": 4,
 "nbformat_minor": 2
}
